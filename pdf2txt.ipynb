{
 "cells": [
  {
   "cell_type": "code",
   "execution_count": 1,
   "metadata": {},
   "outputs": [],
   "source": [
    "import pytesseract\n",
    "import pdf2image\n",
    "from pdf2jpg import pdf2jpg\n",
    "import cv2\n",
    "import os\n",
    "from PIL import Image"
   ]
  },
  {
   "cell_type": "code",
   "execution_count": 2,
   "metadata": {},
   "outputs": [],
   "source": [
    "pytesseract.pytesseract.tesseract_cmd = r\"C:\\Program Files (x86)\\Tesseract-OCR\\tesseract.exe\"\n"
   ]
  },
  {
   "cell_type": "code",
   "execution_count": 5,
   "metadata": {},
   "outputs": [
    {
     "name": "stdout",
     "output_type": "stream",
     "text": [
      "C:\\Users\\Developer3\\pdf2txt\\tempPDF\\sample.pdf\n",
      "C:\\Users\\Developer3\\pdf2txt\\tempPDF\\sample.pdf\n"
     ]
    }
   ],
   "source": [
    "pdf_dir = r\"C:\\Users\\Developer3\\pdf2txt\\tempPDF\"\n",
    "image_dir = r\"C:\\Users\\Developer3\\pdf2txt\\pdf2img\"\n",
    "\n",
    "for file in os.listdir(pdf_dir):\n",
    "    file= os.path.join(pdf_dir, file)\n",
    "    print(file)\n",
    "    if(file.endswith(\".pdf\") | file.endswith(\".PDF\")):\n",
    "        print(file)\n",
    "        result = pdf2jpg.convert_pdf2jpg(file, image_dir, dpi=300, pages=\"ALL\")"
   ]
  },
  {
   "cell_type": "code",
   "execution_count": 6,
   "metadata": {},
   "outputs": [
    {
     "name": "stdout",
     "output_type": "stream",
     "text": [
      "sample.pdf_dir\n",
      "C:\\Users\\Developer3\\pdf2txt\\pdf2img\\sample.pdf_dir\n",
      "0_sample.pdf.jpg\n",
      "1_sample.pdf.jpg\n"
     ]
    }
   ],
   "source": [
    "for fi in os.listdir(image_dir):\n",
    "    path=[]\n",
    "    print(fi)\n",
    "    na = fi\n",
    "    fi = os.path.join(image_dir, fi)\n",
    "    print(fi)\n",
    "    for file in os.listdir(fi):\n",
    "        print(file)\n",
    "        file= os.path.join(fi, file)\n",
    "        img= cv2.imread(file)\n",
    "        path.append(img)\n",
    "    main(path, na)"
   ]
  },
  {
   "cell_type": "code",
   "execution_count": 3,
   "metadata": {},
   "outputs": [],
   "source": [
    "TXT_dir=r\"C:\\Users\\Developer3\\pdf2txt\\textformat\"\n",
    "def main(path,na):\n",
    "    os.mkdir(os.path.join(TXT_dir,na))\n",
    "    for i in range(len(path)):\n",
    "        field=pytesseract.image_to_string(path[i],lang='eng',config='--psm 6')\n",
    "        field=field.lower()\n",
    "        name=\"sample\"+str(i)\n",
    "        text_file = open(os.path.join(TXT_dir,na,name+\".txt\"), \"w\")\n",
    "        n = text_file.write(field)\n",
    "        text_file.close()"
   ]
  },
  {
   "cell_type": "code",
   "execution_count": null,
   "metadata": {},
   "outputs": [],
   "source": []
  }
 ],
 "metadata": {
  "kernelspec": {
   "display_name": "Python 3",
   "language": "python",
   "name": "python3"
  },
  "language_info": {
   "codemirror_mode": {
    "name": "ipython",
    "version": 3
   },
   "file_extension": ".py",
   "mimetype": "text/x-python",
   "name": "python",
   "nbconvert_exporter": "python",
   "pygments_lexer": "ipython3",
   "version": "3.8.3"
  }
 },
 "nbformat": 4,
 "nbformat_minor": 4
}
